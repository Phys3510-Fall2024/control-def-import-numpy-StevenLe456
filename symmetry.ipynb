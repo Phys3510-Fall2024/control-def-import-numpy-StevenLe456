{
 "cells": [
  {
   "cell_type": "markdown",
   "metadata": {},
   "source": [
    "# Symmetry Operations on Physical Quantities"
   ]
  },
  {
   "cell_type": "markdown",
   "metadata": {},
   "source": [
    "First, we will define the following symmetry operations using Numpy: identity, inversion, mirror in xy plane, mirror in yz plane, and 180 degrees rotation.\n",
    "\n",
    "* Identity: just keeps all axis the same, this will be the identity matrix\n",
    "* Inversion: invert all axis, this will be an identity metrix multiplied by -1\n",
    "* Mirror_Z: Invert z-axis, this will be the identity matrix with the third diagonal entry being -1\n",
    "* Mirror_X: Invert x-axis, this will the identity matrix with the first diagonal entry being -1\n",
    "* Rotate_180_X: Invert y and z axis, this will the identity matrix with the second and thirs entry being -1"
   ]
  },
  {
   "cell_type": "code",
   "execution_count": 1,
   "metadata": {},
   "outputs": [],
   "source": [
    "import numpy as np\n",
    "\n",
    "identity = np.array(\n",
    "    [[1, 0, 0],\n",
    "    [0, 1, 0],\n",
    "    [0, 0, 1]]\n",
    ")\n",
    "\n",
    "inversion = np.array(\n",
    "    [[-1, 0, 0],\n",
    "    [0, -1, 0],\n",
    "    [0, 0, -1]]\n",
    ")\n",
    "\n",
    "mirror_z = np.array(\n",
    "    [[1, 0, 0],\n",
    "    [0, 1, 0],\n",
    "    [0, 0, -1]]\n",
    ")\n",
    "\n",
    "mirror_x = np.array(\n",
    "    [[-1, 0, 0],\n",
    "    [0, 1, 0],\n",
    "    [0, 0, 1]]\n",
    ")\n",
    "\n",
    "rotate = np.array(\n",
    "    [[1, 0, 0],\n",
    "    [0, -1, 0],\n",
    "    [0, 0, -1]]\n",
    ")"
   ]
  },
  {
   "cell_type": "markdown",
   "metadata": {},
   "source": [
    "## Define variables here"
   ]
  },
  {
   "cell_type": "code",
   "execution_count": 2,
   "metadata": {},
   "outputs": [],
   "source": [
    "vec = np.array([0, 0, 1])\n",
    "vec1 = np.array([1, 0, 0])\n",
    "vec2 = np.array([0, 1, 0])"
   ]
  },
  {
   "cell_type": "markdown",
   "metadata": {},
   "source": [
    "### Scalars\n",
    "\n",
    "Scalars are the dot product of two polar vectors."
   ]
  },
  {
   "cell_type": "code",
   "execution_count": 3,
   "metadata": {},
   "outputs": [
    {
     "name": "stdout",
     "output_type": "stream",
     "text": [
      "1\n"
     ]
    }
   ],
   "source": [
    "scalar = np.dot(vec, vec)\n",
    "print(scalar)"
   ]
  },
  {
   "cell_type": "markdown",
   "metadata": {},
   "source": [
    "Here are the symmetry operations performed on the scalar."
   ]
  },
  {
   "cell_type": "code",
   "execution_count": 4,
   "metadata": {},
   "outputs": [
    {
     "name": "stdout",
     "output_type": "stream",
     "text": [
      "Result of identity: 1\n",
      "Result of inversion: 1\n",
      "Result of mirror_z: 1\n",
      "Result of mirror_x: 1\n",
      "Result of inversion: 1\n"
     ]
    }
   ],
   "source": [
    "scalar_identity = np.dot(identity @ vec, identity @ vec)\n",
    "print(f\"Result of identity: {scalar_identity}\")\n",
    "scalar_inversion = np.dot(inversion @ vec, inversion @ vec)\n",
    "print(f\"Result of inversion: {scalar_inversion}\")\n",
    "scalar_mirror_z = np.dot(mirror_z @ vec, mirror_z @ vec)\n",
    "print(f\"Result of mirror_z: {scalar_mirror_z}\")\n",
    "scalar_mirror_x = np.dot(mirror_x @ vec, mirror_x @ vec)\n",
    "print(f\"Result of mirror_x: {scalar_mirror_x}\")\n",
    "scalar_rotate = np.dot(rotate @ vec, rotate @ vec)\n",
    "print(f\"Result of inversion: {scalar_rotate}\")"
   ]
  },
  {
   "cell_type": "markdown",
   "metadata": {},
   "source": [
    "For all symmetry operations on a scalar, it is even."
   ]
  },
  {
   "cell_type": "markdown",
   "metadata": {},
   "source": [
    "### Polar Vectors\n",
    "\n",
    "A polar vector is a simple vector."
   ]
  },
  {
   "cell_type": "code",
   "execution_count": 5,
   "metadata": {},
   "outputs": [
    {
     "name": "stdout",
     "output_type": "stream",
     "text": [
      "[0 0 1]\n"
     ]
    }
   ],
   "source": [
    "print(vec)"
   ]
  },
  {
   "cell_type": "markdown",
   "metadata": {},
   "source": [
    "Here are the symmetry operations performed on a polar vector."
   ]
  },
  {
   "cell_type": "code",
   "execution_count": 6,
   "metadata": {},
   "outputs": [
    {
     "name": "stdout",
     "output_type": "stream",
     "text": [
      "Results of identity: [0 0 1]\n",
      "Results of inversion: [ 0  0 -1]\n",
      "Results of mirror_z: [ 0  0 -1]\n",
      "Results of mirror_x: [0 0 1]\n",
      "Results of rotate: [ 0  0 -1]\n"
     ]
    }
   ],
   "source": [
    "polar_identity = identity @ vec\n",
    "print(f\"Results of identity: {polar_identity}\")\n",
    "polar_inversion = inversion @ vec\n",
    "print(f\"Results of inversion: {polar_inversion}\")\n",
    "polar_mirror_z = mirror_z @ vec\n",
    "print(f\"Results of mirror_z: {polar_mirror_z}\")\n",
    "polar_mirror_x = mirror_x @ vec\n",
    "print(f\"Results of mirror_x: {polar_mirror_x}\")\n",
    "polar_rotate = rotate @ vec\n",
    "print(f\"Results of rotate: {polar_rotate}\")"
   ]
  },
  {
   "cell_type": "markdown",
   "metadata": {},
   "source": [
    "For polar vectors, it is even under identity and mirror_x operations and odd for the rest."
   ]
  },
  {
   "cell_type": "markdown",
   "metadata": {},
   "source": [
    "### Pseudovectors\n",
    "\n",
    "Pseudovectors are the cross product of two vectors."
   ]
  },
  {
   "cell_type": "code",
   "execution_count": 7,
   "metadata": {},
   "outputs": [
    {
     "name": "stdout",
     "output_type": "stream",
     "text": [
      "[0 0 1]\n"
     ]
    }
   ],
   "source": [
    "pseudovec = np.cross(vec1, vec2)\n",
    "print(pseudovec)"
   ]
  },
  {
   "cell_type": "markdown",
   "metadata": {},
   "source": [
    "Here are the symmetry operations performed on pseudovectors."
   ]
  },
  {
   "cell_type": "code",
   "execution_count": 8,
   "metadata": {},
   "outputs": [
    {
     "name": "stdout",
     "output_type": "stream",
     "text": [
      "Results of identity: [0 0 1]\n",
      "Results of inversion: [0 0 1]\n",
      "Results of mirror_z: [0 0 1]\n",
      "Results of mirror_x: [ 0  0 -1]\n",
      "Results of rotate: [ 0  0 -1]\n"
     ]
    }
   ],
   "source": [
    "pseudovec_identity = np.cross(identity @ vec1, identity @ vec2)\n",
    "print(f\"Results of identity: {pseudovec_identity}\")\n",
    "pseudovec_inversion = np.cross(inversion @ vec1, inversion @ vec2)\n",
    "print(f\"Results of inversion: {pseudovec_inversion}\")\n",
    "pseudovec_mirror_z = np.cross(mirror_z @ vec1, mirror_z @ vec2)\n",
    "print(f\"Results of mirror_z: {pseudovec_mirror_z}\")\n",
    "pseudovec_mirror_x = np.cross(mirror_x @ vec1, mirror_x @ vec2)\n",
    "print(f\"Results of mirror_x: {pseudovec_mirror_x}\")\n",
    "pseudovec_rotate = np.cross(rotate @ vec1, rotate @ vec2)\n",
    "print(f\"Results of rotate: {pseudovec_rotate}\")"
   ]
  },
  {
   "cell_type": "markdown",
   "metadata": {},
   "source": [
    "For pseudovectors, it is even under identity, inversion, and mirror_z, and odd for the rest."
   ]
  },
  {
   "cell_type": "markdown",
   "metadata": {},
   "source": [
    "### Pseudoscalars\n",
    "\n",
    "Pseudoscalars are the dot product of a polar vector and a pseudovector."
   ]
  },
  {
   "cell_type": "code",
   "execution_count": 10,
   "metadata": {},
   "outputs": [
    {
     "name": "stdout",
     "output_type": "stream",
     "text": [
      "1\n"
     ]
    }
   ],
   "source": [
    "pseudoscalar = np.dot(vec, np.cross(vec1, vec2))\n",
    "print(pseudoscalar)"
   ]
  },
  {
   "cell_type": "markdown",
   "metadata": {},
   "source": [
    "Here are the symmetry operations performed on pseudoscalars."
   ]
  },
  {
   "cell_type": "code",
   "execution_count": 11,
   "metadata": {},
   "outputs": [
    {
     "name": "stdout",
     "output_type": "stream",
     "text": [
      "Results of identity: 1\n",
      "Results of inversion: -1\n",
      "Results of mirror_z: -1\n",
      "Results of mirror_x: -1\n",
      "Results of rotate: 1\n"
     ]
    }
   ],
   "source": [
    "ps_indentity = np.dot(identity @ vec, np.cross(identity @ vec1, identity @ vec2))\n",
    "print(f\"Results of identity: {ps_indentity}\")\n",
    "ps_inversion = np.dot(inversion @ vec, np.cross(inversion @ vec1, inversion @ vec2))\n",
    "print(f\"Results of inversion: {ps_inversion}\")\n",
    "ps_mirror_z = np.dot(mirror_z @ vec, np.cross(mirror_z @ vec1, mirror_z @ vec2))\n",
    "print(f\"Results of mirror_z: {ps_mirror_z}\")\n",
    "ps_mirror_x = np.dot(mirror_x @ vec, np.cross(mirror_x @ vec1, mirror_x @ vec2))\n",
    "print(f\"Results of mirror_x: {ps_mirror_x}\")\n",
    "ps_rotate = np.dot(rotate @ vec, np.cross(rotate @ vec1, rotate @ vec2))\n",
    "print(f\"Results of rotate: {ps_rotate}\")"
   ]
  },
  {
   "cell_type": "markdown",
   "metadata": {},
   "source": [
    "For pseudoscalars, it is even under indentity and rotation. It is odd for the rest."
   ]
  },
  {
   "cell_type": "markdown",
   "metadata": {},
   "source": [
    "## Summary\n",
    "\n",
    "| 1D object    | identity | inversion | mirror_z | mirror_x | rotation_x_180 |\n",
    "|--------------|----------|-----------|----------|----------|----------------|\n",
    "| scalar       | 1        | 1         | 1        | 1        | 1              |\n",
    "| pseudoscalar | 1        |-1         |-1        |-1        | 1              |\n",
    "| polar vector | 1        |-1         |-1        | 1        |-1              |\n",
    "| axial vector | 1        | 1         | 1        |-1        |-1              |"
   ]
  }
 ],
 "metadata": {
  "kernelspec": {
   "display_name": ".venv",
   "language": "python",
   "name": "python3"
  },
  "language_info": {
   "codemirror_mode": {
    "name": "ipython",
    "version": 3
   },
   "file_extension": ".py",
   "mimetype": "text/x-python",
   "name": "python",
   "nbconvert_exporter": "python",
   "pygments_lexer": "ipython3",
   "version": "3.12.6"
  }
 },
 "nbformat": 4,
 "nbformat_minor": 2
}
